{
 "cells": [
  {
   "cell_type": "code",
   "execution_count": 1,
   "id": "8c56363c",
   "metadata": {},
   "outputs": [],
   "source": [
    "import pandas as pd\n",
    "import glob\n",
    "import os\n",
    "import matplotlib.pyplot as plt\n",
    "#import seaborn as sns"
   ]
  },
  {
   "cell_type": "markdown",
   "id": "93d3e2e2",
   "metadata": {},
   "source": [
    "### Task 1: Join all the csv files into one dataset"
   ]
  },
  {
   "cell_type": "code",
   "execution_count": 2,
   "id": "8bee9923",
   "metadata": {},
   "outputs": [],
   "source": [
    "#define path to CSV files\n",
    "path = r'C:\\Users\\karol\\sales_data'\n",
    "\n",
    "#identify all CSV files\n",
    "all_files = glob.glob(os.path.join(\"*.csv\"))\n",
    "\n",
    "#merge all CSV files into one DataFrame\n",
    "sales_data = pd.concat((pd.read_csv(f) for f in all_files), ignore_index=True)"
   ]
  },
  {
   "cell_type": "code",
   "execution_count": 97,
   "id": "7738968d",
   "metadata": {},
   "outputs": [],
   "source": [
    "sales_data.to_csv('all_sales.csv')"
   ]
  },
  {
   "cell_type": "code",
   "execution_count": 92,
   "id": "8aacb2ec",
   "metadata": {},
   "outputs": [
    {
     "data": {
      "text/plain": [
       "(185686, 12)"
      ]
     },
     "execution_count": 92,
     "metadata": {},
     "output_type": "execute_result"
    }
   ],
   "source": [
    "sales_data.shape"
   ]
  },
  {
   "cell_type": "code",
   "execution_count": 95,
   "id": "4113b177-5384-4e82-bd30-0a7278b9bb53",
   "metadata": {},
   "outputs": [
    {
     "data": {
      "text/plain": [
       "Index(['Order ID', 'Product', 'Quantity Ordered', 'Price Each', 'Order Date',\n",
       "       'Purchase Address', 'Month', 'Sales', 'City', 'Hour', 'Day of Month'],\n",
       "      dtype='object')"
      ]
     },
     "execution_count": 95,
     "metadata": {},
     "output_type": "execute_result"
    }
   ],
   "source": [
    "sales_data.columns"
   ]
  },
  {
   "cell_type": "code",
   "execution_count": 94,
   "id": "417b8329-d56d-4c5b-8670-624f8a9eab27",
   "metadata": {},
   "outputs": [],
   "source": [
    "#sales_data.drop(['Day_of_Month'],axis=1, inplace=True)"
   ]
  },
  {
   "cell_type": "code",
   "execution_count": 8,
   "id": "4fb089fb",
   "metadata": {},
   "outputs": [
    {
     "data": {
      "text/html": [
       "<div>\n",
       "<style scoped>\n",
       "    .dataframe tbody tr th:only-of-type {\n",
       "        vertical-align: middle;\n",
       "    }\n",
       "\n",
       "    .dataframe tbody tr th {\n",
       "        vertical-align: top;\n",
       "    }\n",
       "\n",
       "    .dataframe thead th {\n",
       "        text-align: right;\n",
       "    }\n",
       "</style>\n",
       "<table border=\"1\" class=\"dataframe\">\n",
       "  <thead>\n",
       "    <tr style=\"text-align: right;\">\n",
       "      <th></th>\n",
       "      <th>Order ID</th>\n",
       "      <th>Product</th>\n",
       "      <th>Quantity Ordered</th>\n",
       "      <th>Price Each</th>\n",
       "      <th>Order Date</th>\n",
       "      <th>Purchase Address</th>\n",
       "    </tr>\n",
       "  </thead>\n",
       "  <tbody>\n",
       "    <tr>\n",
       "      <th>0</th>\n",
       "      <td>176558</td>\n",
       "      <td>USB-C Charging Cable</td>\n",
       "      <td>2</td>\n",
       "      <td>11.95</td>\n",
       "      <td>04/19/19 08:46</td>\n",
       "      <td>917 1st St, Dallas, TX 75001</td>\n",
       "    </tr>\n",
       "  </tbody>\n",
       "</table>\n",
       "</div>"
      ],
      "text/plain": [
       "  Order ID               Product Quantity Ordered Price Each      Order Date  \\\n",
       "0   176558  USB-C Charging Cable                2      11.95  04/19/19 08:46   \n",
       "\n",
       "               Purchase Address  \n",
       "0  917 1st St, Dallas, TX 75001  "
      ]
     },
     "execution_count": 8,
     "metadata": {},
     "output_type": "execute_result"
    }
   ],
   "source": [
    "sales_data.head(1)"
   ]
  },
  {
   "cell_type": "code",
   "execution_count": 9,
   "id": "4a4e66ed-4e65-4701-9644-fbca9f18a872",
   "metadata": {},
   "outputs": [
    {
     "data": {
      "text/plain": [
       "Order ID            545\n",
       "Product             545\n",
       "Quantity Ordered    545\n",
       "Price Each          545\n",
       "Order Date          545\n",
       "Purchase Address    545\n",
       "dtype: int64"
      ]
     },
     "execution_count": 9,
     "metadata": {},
     "output_type": "execute_result"
    }
   ],
   "source": [
    "sales_data.isna().sum()"
   ]
  },
  {
   "cell_type": "markdown",
   "id": "d7d06058",
   "metadata": {},
   "source": [
    "### Clean data! \n",
    "\n",
    "   ### Drop rows of NAN"
   ]
  },
  {
   "cell_type": "code",
   "execution_count": 12,
   "id": "7f31b399",
   "metadata": {},
   "outputs": [
    {
     "data": {
      "text/html": [
       "<div>\n",
       "<style scoped>\n",
       "    .dataframe tbody tr th:only-of-type {\n",
       "        vertical-align: middle;\n",
       "    }\n",
       "\n",
       "    .dataframe tbody tr th {\n",
       "        vertical-align: top;\n",
       "    }\n",
       "\n",
       "    .dataframe thead th {\n",
       "        text-align: right;\n",
       "    }\n",
       "</style>\n",
       "<table border=\"1\" class=\"dataframe\">\n",
       "  <thead>\n",
       "    <tr style=\"text-align: right;\">\n",
       "      <th></th>\n",
       "      <th>Order ID</th>\n",
       "      <th>Product</th>\n",
       "      <th>Quantity Ordered</th>\n",
       "      <th>Price Each</th>\n",
       "      <th>Order Date</th>\n",
       "      <th>Purchase Address</th>\n",
       "    </tr>\n",
       "  </thead>\n",
       "  <tbody>\n",
       "    <tr>\n",
       "      <th>0</th>\n",
       "      <td>176558</td>\n",
       "      <td>USB-C Charging Cable</td>\n",
       "      <td>2</td>\n",
       "      <td>11.95</td>\n",
       "      <td>04/19/19 08:46</td>\n",
       "      <td>917 1st St, Dallas, TX 75001</td>\n",
       "    </tr>\n",
       "    <tr>\n",
       "      <th>2</th>\n",
       "      <td>176559</td>\n",
       "      <td>Bose SoundSport Headphones</td>\n",
       "      <td>1</td>\n",
       "      <td>99.99</td>\n",
       "      <td>04/07/19 22:30</td>\n",
       "      <td>682 Chestnut St, Boston, MA 02215</td>\n",
       "    </tr>\n",
       "    <tr>\n",
       "      <th>3</th>\n",
       "      <td>176560</td>\n",
       "      <td>Google Phone</td>\n",
       "      <td>1</td>\n",
       "      <td>600</td>\n",
       "      <td>04/12/19 14:38</td>\n",
       "      <td>669 Spruce St, Los Angeles, CA 90001</td>\n",
       "    </tr>\n",
       "    <tr>\n",
       "      <th>4</th>\n",
       "      <td>176560</td>\n",
       "      <td>Wired Headphones</td>\n",
       "      <td>1</td>\n",
       "      <td>11.99</td>\n",
       "      <td>04/12/19 14:38</td>\n",
       "      <td>669 Spruce St, Los Angeles, CA 90001</td>\n",
       "    </tr>\n",
       "    <tr>\n",
       "      <th>5</th>\n",
       "      <td>176561</td>\n",
       "      <td>Wired Headphones</td>\n",
       "      <td>1</td>\n",
       "      <td>11.99</td>\n",
       "      <td>04/30/19 09:27</td>\n",
       "      <td>333 8th St, Los Angeles, CA 90001</td>\n",
       "    </tr>\n",
       "  </tbody>\n",
       "</table>\n",
       "</div>"
      ],
      "text/plain": [
       "  Order ID                     Product Quantity Ordered Price Each  \\\n",
       "0   176558        USB-C Charging Cable                2      11.95   \n",
       "2   176559  Bose SoundSport Headphones                1      99.99   \n",
       "3   176560                Google Phone                1        600   \n",
       "4   176560            Wired Headphones                1      11.99   \n",
       "5   176561            Wired Headphones                1      11.99   \n",
       "\n",
       "       Order Date                      Purchase Address  \n",
       "0  04/19/19 08:46          917 1st St, Dallas, TX 75001  \n",
       "2  04/07/19 22:30     682 Chestnut St, Boston, MA 02215  \n",
       "3  04/12/19 14:38  669 Spruce St, Los Angeles, CA 90001  \n",
       "4  04/12/19 14:38  669 Spruce St, Los Angeles, CA 90001  \n",
       "5  04/30/19 09:27     333 8th St, Los Angeles, CA 90001  "
      ]
     },
     "execution_count": 12,
     "metadata": {},
     "output_type": "execute_result"
    }
   ],
   "source": [
    "sales_data = sales_data.dropna(how='all')\n",
    "sales_data.head()"
   ]
  },
  {
   "cell_type": "code",
   "execution_count": 13,
   "id": "3e442701-efdc-42f0-8e5c-088263a68723",
   "metadata": {},
   "outputs": [
    {
     "data": {
      "text/plain": [
       "Order ID            0\n",
       "Product             0\n",
       "Quantity Ordered    0\n",
       "Price Each          0\n",
       "Order Date          0\n",
       "Purchase Address    0\n",
       "dtype: int64"
      ]
     },
     "execution_count": 13,
     "metadata": {},
     "output_type": "execute_result"
    }
   ],
   "source": [
    "#sales_data.dropna([],axis=0, inplace=True)\n",
    "sales_data.isna().sum()"
   ]
  },
  {
   "cell_type": "code",
   "execution_count": null,
   "id": "ff3daa1b",
   "metadata": {},
   "outputs": [],
   "source": [
    "#sales_data = sales_data.drop(['Unnamed: 0.5'], axis=1)\n",
    "#sales_data.head(1)"
   ]
  },
  {
   "cell_type": "markdown",
   "id": "059f15fb",
   "metadata": {},
   "source": [
    "### Find 'Or' and delete it"
   ]
  },
  {
   "cell_type": "code",
   "execution_count": 14,
   "id": "d922a04c",
   "metadata": {},
   "outputs": [
    {
     "data": {
      "text/html": [
       "<div>\n",
       "<style scoped>\n",
       "    .dataframe tbody tr th:only-of-type {\n",
       "        vertical-align: middle;\n",
       "    }\n",
       "\n",
       "    .dataframe tbody tr th {\n",
       "        vertical-align: top;\n",
       "    }\n",
       "\n",
       "    .dataframe thead th {\n",
       "        text-align: right;\n",
       "    }\n",
       "</style>\n",
       "<table border=\"1\" class=\"dataframe\">\n",
       "  <thead>\n",
       "    <tr style=\"text-align: right;\">\n",
       "      <th></th>\n",
       "      <th>Order ID</th>\n",
       "      <th>Product</th>\n",
       "      <th>Quantity Ordered</th>\n",
       "      <th>Price Each</th>\n",
       "      <th>Order Date</th>\n",
       "      <th>Purchase Address</th>\n",
       "    </tr>\n",
       "  </thead>\n",
       "  <tbody>\n",
       "    <tr>\n",
       "      <th>0</th>\n",
       "      <td>176558</td>\n",
       "      <td>USB-C Charging Cable</td>\n",
       "      <td>2</td>\n",
       "      <td>11.95</td>\n",
       "      <td>04/19/19 08:46</td>\n",
       "      <td>917 1st St, Dallas, TX 75001</td>\n",
       "    </tr>\n",
       "    <tr>\n",
       "      <th>2</th>\n",
       "      <td>176559</td>\n",
       "      <td>Bose SoundSport Headphones</td>\n",
       "      <td>1</td>\n",
       "      <td>99.99</td>\n",
       "      <td>04/07/19 22:30</td>\n",
       "      <td>682 Chestnut St, Boston, MA 02215</td>\n",
       "    </tr>\n",
       "    <tr>\n",
       "      <th>3</th>\n",
       "      <td>176560</td>\n",
       "      <td>Google Phone</td>\n",
       "      <td>1</td>\n",
       "      <td>600</td>\n",
       "      <td>04/12/19 14:38</td>\n",
       "      <td>669 Spruce St, Los Angeles, CA 90001</td>\n",
       "    </tr>\n",
       "    <tr>\n",
       "      <th>4</th>\n",
       "      <td>176560</td>\n",
       "      <td>Wired Headphones</td>\n",
       "      <td>1</td>\n",
       "      <td>11.99</td>\n",
       "      <td>04/12/19 14:38</td>\n",
       "      <td>669 Spruce St, Los Angeles, CA 90001</td>\n",
       "    </tr>\n",
       "    <tr>\n",
       "      <th>5</th>\n",
       "      <td>176561</td>\n",
       "      <td>Wired Headphones</td>\n",
       "      <td>1</td>\n",
       "      <td>11.99</td>\n",
       "      <td>04/30/19 09:27</td>\n",
       "      <td>333 8th St, Los Angeles, CA 90001</td>\n",
       "    </tr>\n",
       "  </tbody>\n",
       "</table>\n",
       "</div>"
      ],
      "text/plain": [
       "  Order ID                     Product Quantity Ordered Price Each  \\\n",
       "0   176558        USB-C Charging Cable                2      11.95   \n",
       "2   176559  Bose SoundSport Headphones                1      99.99   \n",
       "3   176560                Google Phone                1        600   \n",
       "4   176560            Wired Headphones                1      11.99   \n",
       "5   176561            Wired Headphones                1      11.99   \n",
       "\n",
       "       Order Date                      Purchase Address  \n",
       "0  04/19/19 08:46          917 1st St, Dallas, TX 75001  \n",
       "2  04/07/19 22:30     682 Chestnut St, Boston, MA 02215  \n",
       "3  04/12/19 14:38  669 Spruce St, Los Angeles, CA 90001  \n",
       "4  04/12/19 14:38  669 Spruce St, Los Angeles, CA 90001  \n",
       "5  04/30/19 09:27     333 8th St, Los Angeles, CA 90001  "
      ]
     },
     "execution_count": 14,
     "metadata": {},
     "output_type": "execute_result"
    }
   ],
   "source": [
    "sales_data = sales_data[sales_data['Order Date'].str[0:2] != 'Or']\n",
    "sales_data.head()"
   ]
  },
  {
   "cell_type": "markdown",
   "id": "6c5e56f5",
   "metadata": {},
   "source": [
    "### Convert columns to the correct type"
   ]
  },
  {
   "cell_type": "code",
   "execution_count": 15,
   "id": "9c7df45c",
   "metadata": {},
   "outputs": [
    {
     "data": {
      "text/plain": [
       "dtype('float64')"
      ]
     },
     "execution_count": 15,
     "metadata": {},
     "output_type": "execute_result"
    }
   ],
   "source": [
    "# Make float \n",
    "sales_data['Price Each'] = sales_data['Price Each'].astype('float')\n",
    "sales_data['Price Each'].dtype"
   ]
  },
  {
   "cell_type": "code",
   "execution_count": 16,
   "id": "79d80a19",
   "metadata": {},
   "outputs": [
    {
     "data": {
      "text/plain": [
       "dtype('int64')"
      ]
     },
     "execution_count": 16,
     "metadata": {},
     "output_type": "execute_result"
    }
   ],
   "source": [
    "# convert to numeric\n",
    "sales_data['Quantity Ordered'] = pd.to_numeric(sales_data['Quantity Ordered'])\n",
    "sales_data['Quantity Ordered'].dtype"
   ]
  },
  {
   "cell_type": "code",
   "execution_count": 17,
   "id": "b919d6d7",
   "metadata": {},
   "outputs": [
    {
     "data": {
      "text/plain": [
       "dtype('int64')"
      ]
     },
     "execution_count": 17,
     "metadata": {},
     "output_type": "execute_result"
    }
   ],
   "source": [
    "# convert to int\n",
    "sales_data['Quantity Ordered'] = sales_data['Quantity Ordered'].astype('int64')\n",
    "sales_data['Quantity Ordered'].dtype"
   ]
  },
  {
   "cell_type": "markdown",
   "id": "1fd2cb02",
   "metadata": {},
   "source": [
    "### Augment data with additional columns\n",
    "\n",
    "  ### Task 2: Add month column"
   ]
  },
  {
   "cell_type": "code",
   "execution_count": 18,
   "id": "fa0ed23b",
   "metadata": {},
   "outputs": [],
   "source": [
    "sales_data['Order Date'] = pd.to_datetime(sales_data['Order Date'])"
   ]
  },
  {
   "cell_type": "code",
   "execution_count": 19,
   "id": "b84e8893",
   "metadata": {},
   "outputs": [],
   "source": [
    "# Extract months\n",
    "sales_data['Month'] = sales_data['Order Date'].dt.month"
   ]
  },
  {
   "cell_type": "code",
   "execution_count": 20,
   "id": "b8f9cc08",
   "metadata": {},
   "outputs": [
    {
     "data": {
      "text/plain": [
       "array([ 4,  5,  8,  9, 12,  1,  2,  3,  7,  6, 11, 10], dtype=int64)"
      ]
     },
     "execution_count": 20,
     "metadata": {},
     "output_type": "execute_result"
    }
   ],
   "source": [
    "sales_data['Month'].unique()"
   ]
  },
  {
   "cell_type": "code",
   "execution_count": 21,
   "id": "ba1952c3",
   "metadata": {},
   "outputs": [
    {
     "data": {
      "text/plain": [
       "dtype('int64')"
      ]
     },
     "execution_count": 21,
     "metadata": {},
     "output_type": "execute_result"
    }
   ],
   "source": [
    "sales_data['Month'].dtype"
   ]
  },
  {
   "cell_type": "code",
   "execution_count": 46,
   "id": "6b92ff1e-dfdf-4dd8-9436-0af04ba19325",
   "metadata": {},
   "outputs": [],
   "source": [
    "# Extract hour\n",
    "#sales_data['Hour'] = sales_data['Order Date'].dt.hour"
   ]
  },
  {
   "cell_type": "code",
   "execution_count": 47,
   "id": "dabe4ff4-bae9-4c9f-b103-467f60c01f15",
   "metadata": {},
   "outputs": [],
   "source": [
    "#sales_data['Hour'].dtype"
   ]
  },
  {
   "cell_type": "markdown",
   "id": "523e88b0",
   "metadata": {},
   "source": [
    "### Task 3: Add a sales column"
   ]
  },
  {
   "cell_type": "code",
   "execution_count": 48,
   "id": "729f9f17",
   "metadata": {},
   "outputs": [
    {
     "data": {
      "text/html": [
       "<div>\n",
       "<style scoped>\n",
       "    .dataframe tbody tr th:only-of-type {\n",
       "        vertical-align: middle;\n",
       "    }\n",
       "\n",
       "    .dataframe tbody tr th {\n",
       "        vertical-align: top;\n",
       "    }\n",
       "\n",
       "    .dataframe thead th {\n",
       "        text-align: right;\n",
       "    }\n",
       "</style>\n",
       "<table border=\"1\" class=\"dataframe\">\n",
       "  <thead>\n",
       "    <tr style=\"text-align: right;\">\n",
       "      <th></th>\n",
       "      <th>Order ID</th>\n",
       "      <th>Product</th>\n",
       "      <th>Quantity Ordered</th>\n",
       "      <th>Price Each</th>\n",
       "      <th>Order Date</th>\n",
       "      <th>Purchase Address</th>\n",
       "      <th>Month</th>\n",
       "      <th>Sales</th>\n",
       "      <th>City</th>\n",
       "      <th>Hour</th>\n",
       "    </tr>\n",
       "  </thead>\n",
       "  <tbody>\n",
       "    <tr>\n",
       "      <th>0</th>\n",
       "      <td>176558</td>\n",
       "      <td>USB-C Charging Cable</td>\n",
       "      <td>2</td>\n",
       "      <td>11.95</td>\n",
       "      <td>2019-04-19 08:46:00</td>\n",
       "      <td>917 1st St, Dallas, TX 75001</td>\n",
       "      <td>4</td>\n",
       "      <td>23.90</td>\n",
       "      <td>Dallas (TX)</td>\n",
       "      <td>8</td>\n",
       "    </tr>\n",
       "    <tr>\n",
       "      <th>1</th>\n",
       "      <td>176559</td>\n",
       "      <td>Bose SoundSport Headphones</td>\n",
       "      <td>1</td>\n",
       "      <td>99.99</td>\n",
       "      <td>2019-04-07 22:30:00</td>\n",
       "      <td>682 Chestnut St, Boston, MA 02215</td>\n",
       "      <td>4</td>\n",
       "      <td>99.99</td>\n",
       "      <td>Boston (MA)</td>\n",
       "      <td>22</td>\n",
       "    </tr>\n",
       "    <tr>\n",
       "      <th>2</th>\n",
       "      <td>176560</td>\n",
       "      <td>Google Phone</td>\n",
       "      <td>1</td>\n",
       "      <td>600.00</td>\n",
       "      <td>2019-04-12 14:38:00</td>\n",
       "      <td>669 Spruce St, Los Angeles, CA 90001</td>\n",
       "      <td>4</td>\n",
       "      <td>600.00</td>\n",
       "      <td>Los Angeles (CA)</td>\n",
       "      <td>14</td>\n",
       "    </tr>\n",
       "    <tr>\n",
       "      <th>3</th>\n",
       "      <td>176560</td>\n",
       "      <td>Wired Headphones</td>\n",
       "      <td>1</td>\n",
       "      <td>11.99</td>\n",
       "      <td>2019-04-12 14:38:00</td>\n",
       "      <td>669 Spruce St, Los Angeles, CA 90001</td>\n",
       "      <td>4</td>\n",
       "      <td>11.99</td>\n",
       "      <td>Los Angeles (CA)</td>\n",
       "      <td>14</td>\n",
       "    </tr>\n",
       "    <tr>\n",
       "      <th>4</th>\n",
       "      <td>176561</td>\n",
       "      <td>Wired Headphones</td>\n",
       "      <td>1</td>\n",
       "      <td>11.99</td>\n",
       "      <td>2019-04-30 09:27:00</td>\n",
       "      <td>333 8th St, Los Angeles, CA 90001</td>\n",
       "      <td>4</td>\n",
       "      <td>11.99</td>\n",
       "      <td>Los Angeles (CA)</td>\n",
       "      <td>9</td>\n",
       "    </tr>\n",
       "  </tbody>\n",
       "</table>\n",
       "</div>"
      ],
      "text/plain": [
       "  Order ID                     Product  Quantity Ordered  Price Each  \\\n",
       "0   176558        USB-C Charging Cable                 2       11.95   \n",
       "1   176559  Bose SoundSport Headphones                 1       99.99   \n",
       "2   176560                Google Phone                 1      600.00   \n",
       "3   176560            Wired Headphones                 1       11.99   \n",
       "4   176561            Wired Headphones                 1       11.99   \n",
       "\n",
       "           Order Date                      Purchase Address  Month   Sales  \\\n",
       "0 2019-04-19 08:46:00          917 1st St, Dallas, TX 75001      4   23.90   \n",
       "1 2019-04-07 22:30:00     682 Chestnut St, Boston, MA 02215      4   99.99   \n",
       "2 2019-04-12 14:38:00  669 Spruce St, Los Angeles, CA 90001      4  600.00   \n",
       "3 2019-04-12 14:38:00  669 Spruce St, Los Angeles, CA 90001      4   11.99   \n",
       "4 2019-04-30 09:27:00     333 8th St, Los Angeles, CA 90001      4   11.99   \n",
       "\n",
       "                City  Hour  \n",
       "0        Dallas (TX)     8  \n",
       "1        Boston (MA)    22  \n",
       "2   Los Angeles (CA)    14  \n",
       "3   Los Angeles (CA)    14  \n",
       "4   Los Angeles (CA)     9  "
      ]
     },
     "execution_count": 48,
     "metadata": {},
     "output_type": "execute_result"
    }
   ],
   "source": [
    "sales_data['Sales'] = sales_data['Quantity Ordered'] * sales_data['Price Each']\n",
    "sales_data.head()"
   ]
  },
  {
   "cell_type": "markdown",
   "id": "c3ed9352",
   "metadata": {},
   "source": [
    "### Task 4: Add a city column\n",
    "     \n",
    "  ###### Extract city and state from 'Purchase Address'  column"
   ]
  },
  {
   "cell_type": "code",
   "execution_count": 49,
   "id": "5a16b259",
   "metadata": {},
   "outputs": [
    {
     "data": {
      "text/html": [
       "<div>\n",
       "<style scoped>\n",
       "    .dataframe tbody tr th:only-of-type {\n",
       "        vertical-align: middle;\n",
       "    }\n",
       "\n",
       "    .dataframe tbody tr th {\n",
       "        vertical-align: top;\n",
       "    }\n",
       "\n",
       "    .dataframe thead th {\n",
       "        text-align: right;\n",
       "    }\n",
       "</style>\n",
       "<table border=\"1\" class=\"dataframe\">\n",
       "  <thead>\n",
       "    <tr style=\"text-align: right;\">\n",
       "      <th></th>\n",
       "      <th>Order ID</th>\n",
       "      <th>Product</th>\n",
       "      <th>Quantity Ordered</th>\n",
       "      <th>Price Each</th>\n",
       "      <th>Order Date</th>\n",
       "      <th>Purchase Address</th>\n",
       "      <th>Month</th>\n",
       "      <th>Sales</th>\n",
       "      <th>City</th>\n",
       "      <th>Hour</th>\n",
       "    </tr>\n",
       "  </thead>\n",
       "  <tbody>\n",
       "    <tr>\n",
       "      <th>0</th>\n",
       "      <td>176558</td>\n",
       "      <td>USB-C Charging Cable</td>\n",
       "      <td>2</td>\n",
       "      <td>11.95</td>\n",
       "      <td>2019-04-19 08:46:00</td>\n",
       "      <td>917 1st St, Dallas, TX 75001</td>\n",
       "      <td>4</td>\n",
       "      <td>23.90</td>\n",
       "      <td>Dallas (TX)</td>\n",
       "      <td>8</td>\n",
       "    </tr>\n",
       "    <tr>\n",
       "      <th>1</th>\n",
       "      <td>176559</td>\n",
       "      <td>Bose SoundSport Headphones</td>\n",
       "      <td>1</td>\n",
       "      <td>99.99</td>\n",
       "      <td>2019-04-07 22:30:00</td>\n",
       "      <td>682 Chestnut St, Boston, MA 02215</td>\n",
       "      <td>4</td>\n",
       "      <td>99.99</td>\n",
       "      <td>Boston (MA)</td>\n",
       "      <td>22</td>\n",
       "    </tr>\n",
       "    <tr>\n",
       "      <th>2</th>\n",
       "      <td>176560</td>\n",
       "      <td>Google Phone</td>\n",
       "      <td>1</td>\n",
       "      <td>600.00</td>\n",
       "      <td>2019-04-12 14:38:00</td>\n",
       "      <td>669 Spruce St, Los Angeles, CA 90001</td>\n",
       "      <td>4</td>\n",
       "      <td>600.00</td>\n",
       "      <td>Los Angeles (CA)</td>\n",
       "      <td>14</td>\n",
       "    </tr>\n",
       "    <tr>\n",
       "      <th>3</th>\n",
       "      <td>176560</td>\n",
       "      <td>Wired Headphones</td>\n",
       "      <td>1</td>\n",
       "      <td>11.99</td>\n",
       "      <td>2019-04-12 14:38:00</td>\n",
       "      <td>669 Spruce St, Los Angeles, CA 90001</td>\n",
       "      <td>4</td>\n",
       "      <td>11.99</td>\n",
       "      <td>Los Angeles (CA)</td>\n",
       "      <td>14</td>\n",
       "    </tr>\n",
       "    <tr>\n",
       "      <th>4</th>\n",
       "      <td>176561</td>\n",
       "      <td>Wired Headphones</td>\n",
       "      <td>1</td>\n",
       "      <td>11.99</td>\n",
       "      <td>2019-04-30 09:27:00</td>\n",
       "      <td>333 8th St, Los Angeles, CA 90001</td>\n",
       "      <td>4</td>\n",
       "      <td>11.99</td>\n",
       "      <td>Los Angeles (CA)</td>\n",
       "      <td>9</td>\n",
       "    </tr>\n",
       "  </tbody>\n",
       "</table>\n",
       "</div>"
      ],
      "text/plain": [
       "  Order ID                     Product  Quantity Ordered  Price Each  \\\n",
       "0   176558        USB-C Charging Cable                 2       11.95   \n",
       "1   176559  Bose SoundSport Headphones                 1       99.99   \n",
       "2   176560                Google Phone                 1      600.00   \n",
       "3   176560            Wired Headphones                 1       11.99   \n",
       "4   176561            Wired Headphones                 1       11.99   \n",
       "\n",
       "           Order Date                      Purchase Address  Month   Sales  \\\n",
       "0 2019-04-19 08:46:00          917 1st St, Dallas, TX 75001      4   23.90   \n",
       "1 2019-04-07 22:30:00     682 Chestnut St, Boston, MA 02215      4   99.99   \n",
       "2 2019-04-12 14:38:00  669 Spruce St, Los Angeles, CA 90001      4  600.00   \n",
       "3 2019-04-12 14:38:00  669 Spruce St, Los Angeles, CA 90001      4   11.99   \n",
       "4 2019-04-30 09:27:00     333 8th St, Los Angeles, CA 90001      4   11.99   \n",
       "\n",
       "                City  Hour  \n",
       "0        Dallas (TX)     8  \n",
       "1        Boston (MA)    22  \n",
       "2   Los Angeles (CA)    14  \n",
       "3   Los Angeles (CA)    14  \n",
       "4   Los Angeles (CA)     9  "
      ]
     },
     "execution_count": 49,
     "metadata": {},
     "output_type": "execute_result"
    }
   ],
   "source": [
    "# get city\n",
    "def get_city(address):\n",
    "    return address.split(',')[1]\n",
    "\n",
    "# get the state\n",
    "def get_state(address):\n",
    "    return address.split(',')[2].split(' ')[1]\n",
    "\n",
    "sales_data['City'] = sales_data['Purchase Address'].apply(lambda x: f\"{get_city(x)} ({get_state(x)})\")\n",
    "sales_data.head()"
   ]
  },
  {
   "cell_type": "markdown",
   "id": "6e03055a",
   "metadata": {},
   "source": [
    "### Question 1: what was the best month for sales? How much was earned that month?"
   ]
  },
  {
   "cell_type": "code",
   "execution_count": 109,
   "id": "c7d25189",
   "metadata": {},
   "outputs": [
    {
     "data": {
      "text/plain": [
       "Month\n",
       "1     1821413.16\n",
       "2     2200078.08\n",
       "3     2804973.35\n",
       "4     3389217.98\n",
       "5     3150616.23\n",
       "6     2576280.15\n",
       "7     2646461.32\n",
       "8     2241083.37\n",
       "9     2094465.69\n",
       "10    3734777.86\n",
       "11    3197875.05\n",
       "12    4608295.70\n",
       "Name: Sales, dtype: float64"
      ]
     },
     "execution_count": 109,
     "metadata": {},
     "output_type": "execute_result"
    }
   ],
   "source": [
    "month_sales = sales_data.groupby('Month')['Sales'].sum()\n",
    "month_sales.to_csv('sales_by_month.csv')\n",
    "month_sales"
   ]
  },
  {
   "cell_type": "code",
   "execution_count": 118,
   "id": "2a5f9bf0",
   "metadata": {},
   "outputs": [
    {
     "data": {
      "text/plain": [
       "Text(0.5, 0, 'Month Number')"
      ]
     },
     "execution_count": 118,
     "metadata": {},
     "output_type": "execute_result"
    },
    {
     "data": {
      "image/png": "[encoded data removed]",
      "text/plain": [
       "<Figure size 640x480 with 1 Axes>"
      ]
     },
     "metadata": {},
     "output_type": "display_data"
    }
   ],
   "source": [
    "months = range(1,13)\n",
    "plt.bar(months,  month_sales,color='r')\n",
    "plt.xticks(months)\n",
    "plt.ylabel('Sales in usd ($)')\n",
    "plt.xlabel('Month Number')\n",
    "\n",
    "# Best month of sales is december"
   ]
  },
  {
   "cell_type": "code",
   "execution_count": 52,
   "id": "0e8dc104",
   "metadata": {},
   "outputs": [
    {
     "data": {
      "text/html": [
       "<div>\n",
       "<style scoped>\n",
       "    .dataframe tbody tr th:only-of-type {\n",
       "        vertical-align: middle;\n",
       "    }\n",
       "\n",
       "    .dataframe tbody tr th {\n",
       "        vertical-align: top;\n",
       "    }\n",
       "\n",
       "    .dataframe thead th {\n",
       "        text-align: right;\n",
       "    }\n",
       "</style>\n",
       "<table border=\"1\" class=\"dataframe\">\n",
       "  <thead>\n",
       "    <tr style=\"text-align: right;\">\n",
       "      <th></th>\n",
       "      <th>Order ID</th>\n",
       "      <th>Product</th>\n",
       "      <th>Quantity Ordered</th>\n",
       "      <th>Price Each</th>\n",
       "      <th>Order Date</th>\n",
       "      <th>Purchase Address</th>\n",
       "      <th>Month</th>\n",
       "      <th>Sales</th>\n",
       "      <th>City</th>\n",
       "      <th>Hour</th>\n",
       "    </tr>\n",
       "  </thead>\n",
       "  <tbody>\n",
       "    <tr>\n",
       "      <th>0</th>\n",
       "      <td>176558</td>\n",
       "      <td>USB-C Charging Cable</td>\n",
       "      <td>2</td>\n",
       "      <td>11.95</td>\n",
       "      <td>2019-04-19 08:46:00</td>\n",
       "      <td>917 1st St, Dallas, TX 75001</td>\n",
       "      <td>4</td>\n",
       "      <td>23.90</td>\n",
       "      <td>Dallas (TX)</td>\n",
       "      <td>8</td>\n",
       "    </tr>\n",
       "    <tr>\n",
       "      <th>1</th>\n",
       "      <td>176559</td>\n",
       "      <td>Bose SoundSport Headphones</td>\n",
       "      <td>1</td>\n",
       "      <td>99.99</td>\n",
       "      <td>2019-04-07 22:30:00</td>\n",
       "      <td>682 Chestnut St, Boston, MA 02215</td>\n",
       "      <td>4</td>\n",
       "      <td>99.99</td>\n",
       "      <td>Boston (MA)</td>\n",
       "      <td>22</td>\n",
       "    </tr>\n",
       "    <tr>\n",
       "      <th>2</th>\n",
       "      <td>176560</td>\n",
       "      <td>Google Phone</td>\n",
       "      <td>1</td>\n",
       "      <td>600.00</td>\n",
       "      <td>2019-04-12 14:38:00</td>\n",
       "      <td>669 Spruce St, Los Angeles, CA 90001</td>\n",
       "      <td>4</td>\n",
       "      <td>600.00</td>\n",
       "      <td>Los Angeles (CA)</td>\n",
       "      <td>14</td>\n",
       "    </tr>\n",
       "    <tr>\n",
       "      <th>3</th>\n",
       "      <td>176560</td>\n",
       "      <td>Wired Headphones</td>\n",
       "      <td>1</td>\n",
       "      <td>11.99</td>\n",
       "      <td>2019-04-12 14:38:00</td>\n",
       "      <td>669 Spruce St, Los Angeles, CA 90001</td>\n",
       "      <td>4</td>\n",
       "      <td>11.99</td>\n",
       "      <td>Los Angeles (CA)</td>\n",
       "      <td>14</td>\n",
       "    </tr>\n",
       "    <tr>\n",
       "      <th>4</th>\n",
       "      <td>176561</td>\n",
       "      <td>Wired Headphones</td>\n",
       "      <td>1</td>\n",
       "      <td>11.99</td>\n",
       "      <td>2019-04-30 09:27:00</td>\n",
       "      <td>333 8th St, Los Angeles, CA 90001</td>\n",
       "      <td>4</td>\n",
       "      <td>11.99</td>\n",
       "      <td>Los Angeles (CA)</td>\n",
       "      <td>9</td>\n",
       "    </tr>\n",
       "  </tbody>\n",
       "</table>\n",
       "</div>"
      ],
      "text/plain": [
       "  Order ID                     Product  Quantity Ordered  Price Each  \\\n",
       "0   176558        USB-C Charging Cable                 2       11.95   \n",
       "1   176559  Bose SoundSport Headphones                 1       99.99   \n",
       "2   176560                Google Phone                 1      600.00   \n",
       "3   176560            Wired Headphones                 1       11.99   \n",
       "4   176561            Wired Headphones                 1       11.99   \n",
       "\n",
       "           Order Date                      Purchase Address  Month   Sales  \\\n",
       "0 2019-04-19 08:46:00          917 1st St, Dallas, TX 75001      4   23.90   \n",
       "1 2019-04-07 22:30:00     682 Chestnut St, Boston, MA 02215      4   99.99   \n",
       "2 2019-04-12 14:38:00  669 Spruce St, Los Angeles, CA 90001      4  600.00   \n",
       "3 2019-04-12 14:38:00  669 Spruce St, Los Angeles, CA 90001      4   11.99   \n",
       "4 2019-04-30 09:27:00     333 8th St, Los Angeles, CA 90001      4   11.99   \n",
       "\n",
       "                City  Hour  \n",
       "0        Dallas (TX)     8  \n",
       "1        Boston (MA)    22  \n",
       "2   Los Angeles (CA)    14  \n",
       "3   Los Angeles (CA)    14  \n",
       "4   Los Angeles (CA)     9  "
      ]
     },
     "execution_count": 52,
     "metadata": {},
     "output_type": "execute_result"
    }
   ],
   "source": [
    "# reset index\n",
    "sales_data = sales_data.reset_index(drop=True)\n",
    "sales_data.head()"
   ]
  },
  {
   "cell_type": "markdown",
   "id": "9c276ae2",
   "metadata": {},
   "source": [
    "### Question 2: what city hasd the highest number of sales?"
   ]
  },
  {
   "cell_type": "code",
   "execution_count": 102,
   "id": "f4355702",
   "metadata": {},
   "outputs": [
    {
     "data": {
      "text/plain": [
       "City\n",
       " Atlanta (GA)          2794199.07\n",
       " Austin (TX)           1818044.33\n",
       " Boston (MA)           3658627.65\n",
       " Dallas (TX)           2765373.96\n",
       " Los Angeles (CA)      5448304.28\n",
       " New York City (NY)    4661867.14\n",
       " Portland (ME)          449321.38\n",
       " Portland (OR)         1870010.56\n",
       " San Francisco (CA)    8254743.55\n",
       " Seattle (WA)          2745046.02\n",
       "Name: Sales, dtype: float64"
      ]
     },
     "execution_count": 102,
     "metadata": {},
     "output_type": "execute_result"
    }
   ],
   "source": [
    "cities_sales = sales_data.groupby('City')['Sales'].sum()\n",
    "cities_sales.to_csv('sales_by_city.csv')\n",
    "cities_sales"
   ]
  },
  {
   "cell_type": "code",
   "execution_count": 54,
   "id": "4766e17d",
   "metadata": {},
   "outputs": [
    {
     "data": {
      "text/plain": [
       "Text(0.5, 0, 'City name')"
      ]
     },
     "execution_count": 54,
     "metadata": {},
     "output_type": "execute_result"
    },
    {
     "data": {
      "image/png": "[encoded data removed]",
      "text/plain": [
       "<Figure size 640x480 with 1 Axes>"
      ]
     },
     "metadata": {},
     "output_type": "display_data"
    }
   ],
   "source": [
    "cities = [city for city, sales_data in sales_data.groupby('City')]\n",
    "plt.bar(cities, cities_sales['Sales'],color='g')\n",
    "plt.xticks(cities, rotation ='vertical', fontsize=8)\n",
    "plt.ylabel('Sales in usd ($)', color='g')\n",
    "plt.xlabel('City name')\n",
    "\n",
    "# city with the highest sales is San Francisco (CA)"
   ]
  },
  {
   "cell_type": "markdown",
   "id": "52148cb7",
   "metadata": {},
   "source": [
    "### Question 3: What time should we display advertisements to maximize likelihood of customer's buying products?"
   ]
  },
  {
   "cell_type": "markdown",
   "id": "8b8c45ca",
   "metadata": {},
   "source": [
    "### Task 5: create Hour and minutes column"
   ]
  },
  {
   "cell_type": "code",
   "execution_count": 58,
   "id": "058bbbb0",
   "metadata": {},
   "outputs": [
    {
     "data": {
      "text/plain": [
       "dtype('<M8[ns]')"
      ]
     },
     "execution_count": 58,
     "metadata": {},
     "output_type": "execute_result"
    }
   ],
   "source": [
    "# convert to datetime format\n",
    "sales_data['Order Date'] = pd.to_datetime(sales_data['Order Date'])\n",
    "sales_data['Order Date'].dtype"
   ]
  },
  {
   "cell_type": "code",
   "execution_count": 69,
   "id": "a112f8f8",
   "metadata": {},
   "outputs": [],
   "source": [
    "sales_data['Hour'] = sales_data['Order Date'].dt.hour"
   ]
  },
  {
   "cell_type": "code",
   "execution_count": 107,
   "id": "93ce73af-597d-4646-b176-a96c15bf09d4",
   "metadata": {},
   "outputs": [
    {
     "data": {
      "text/plain": [
       "Hour\n",
       "0      713548.66\n",
       "1      460563.90\n",
       "2      234839.45\n",
       "3      145742.94\n",
       "4      162546.07\n",
       "5      230664.87\n",
       "6      447963.01\n",
       "7      744067.32\n",
       "8     1192309.20\n",
       "9     1638784.04\n",
       "10    1942988.08\n",
       "11    2296619.84\n",
       "12    2314359.85\n",
       "13    2152369.98\n",
       "14    2082513.70\n",
       "15    1940623.20\n",
       "16    1902523.20\n",
       "17    2126553.97\n",
       "18    2218374.01\n",
       "19    2411971.14\n",
       "20    2280784.36\n",
       "21    2040790.48\n",
       "22    1606243.85\n",
       "23    1177792.82\n",
       "Name: Sales, dtype: float64"
      ]
     },
     "execution_count": 107,
     "metadata": {},
     "output_type": "execute_result"
    }
   ],
   "source": [
    "sales_by_hour = sales_data.groupby('Hour')['Sales'].sum()\n",
    "\n",
    "sales_by_hour.to_csv('sales_by_hour.csv')\n",
    "sales_by_hour"
   ]
  },
  {
   "cell_type": "code",
   "execution_count": 76,
   "id": "d6e3a7c9",
   "metadata": {},
   "outputs": [
    {
     "data": {
      "text/plain": [
       "Text(0.5, 0, 'Hour')"
      ]
     },
     "execution_count": 76,
     "metadata": {},
     "output_type": "execute_result"
    },
    {
     "data": {
      "image/png": "[encoded data removed]",
      "text/plain": [
       "<Figure size 640x480 with 1 Axes>"
      ]
     },
     "metadata": {},
     "output_type": "display_data"
    }
   ],
   "source": [
    "# groupby 'Hour' and Counted number of rows by each hour.\n",
    "hours = [hour for hour, sales_data in sales_data.groupby('Hour')]\n",
    "plt.plot(hours, sales_data.groupby(['Hour']).count(), color='g')\n",
    "plt.xticks(hours, fontsize=8)\n",
    "plt.grid(color='b')\n",
    "plt.ylabel('Number of Orders', color='g')\n",
    "plt.xlabel('Hour', color='b')\n",
    "\n",
    "# My recomendantion is arround 11am (11) or 7pm (19)"
   ]
  },
  {
   "cell_type": "code",
   "execution_count": null,
   "id": "0ef7b24c",
   "metadata": {},
   "outputs": [],
   "source": [
    "sales_data['Minute'] = sales_data['Order Date'].dt.minute"
   ]
  },
  {
   "cell_type": "code",
   "execution_count": 75,
   "id": "fe99b330",
   "metadata": {},
   "outputs": [
    {
     "data": {
      "text/html": [
       "<div>\n",
       "<style scoped>\n",
       "    .dataframe tbody tr th:only-of-type {\n",
       "        vertical-align: middle;\n",
       "    }\n",
       "\n",
       "    .dataframe tbody tr th {\n",
       "        vertical-align: top;\n",
       "    }\n",
       "\n",
       "    .dataframe thead th {\n",
       "        text-align: right;\n",
       "    }\n",
       "</style>\n",
       "<table border=\"1\" class=\"dataframe\">\n",
       "  <thead>\n",
       "    <tr style=\"text-align: right;\">\n",
       "      <th></th>\n",
       "      <th>Order ID</th>\n",
       "      <th>Product</th>\n",
       "      <th>Quantity Ordered</th>\n",
       "      <th>Price Each</th>\n",
       "      <th>Order Date</th>\n",
       "      <th>Purchase Address</th>\n",
       "      <th>Month</th>\n",
       "      <th>Sales</th>\n",
       "      <th>City</th>\n",
       "      <th>Hour</th>\n",
       "      <th>Day_of_Month</th>\n",
       "    </tr>\n",
       "  </thead>\n",
       "  <tbody>\n",
       "    <tr>\n",
       "      <th>0</th>\n",
       "      <td>176558</td>\n",
       "      <td>USB-C Charging Cable</td>\n",
       "      <td>2</td>\n",
       "      <td>11.95</td>\n",
       "      <td>2019-04-19 08:46:00</td>\n",
       "      <td>917 1st St, Dallas, TX 75001</td>\n",
       "      <td>4</td>\n",
       "      <td>23.90</td>\n",
       "      <td>Dallas (TX)</td>\n",
       "      <td>8</td>\n",
       "      <td>19</td>\n",
       "    </tr>\n",
       "    <tr>\n",
       "      <th>1</th>\n",
       "      <td>176559</td>\n",
       "      <td>Bose SoundSport Headphones</td>\n",
       "      <td>1</td>\n",
       "      <td>99.99</td>\n",
       "      <td>2019-04-07 22:30:00</td>\n",
       "      <td>682 Chestnut St, Boston, MA 02215</td>\n",
       "      <td>4</td>\n",
       "      <td>99.99</td>\n",
       "      <td>Boston (MA)</td>\n",
       "      <td>22</td>\n",
       "      <td>7</td>\n",
       "    </tr>\n",
       "    <tr>\n",
       "      <th>2</th>\n",
       "      <td>176560</td>\n",
       "      <td>Google Phone</td>\n",
       "      <td>1</td>\n",
       "      <td>600.00</td>\n",
       "      <td>2019-04-12 14:38:00</td>\n",
       "      <td>669 Spruce St, Los Angeles, CA 90001</td>\n",
       "      <td>4</td>\n",
       "      <td>600.00</td>\n",
       "      <td>Los Angeles (CA)</td>\n",
       "      <td>14</td>\n",
       "      <td>12</td>\n",
       "    </tr>\n",
       "    <tr>\n",
       "      <th>3</th>\n",
       "      <td>176560</td>\n",
       "      <td>Wired Headphones</td>\n",
       "      <td>1</td>\n",
       "      <td>11.99</td>\n",
       "      <td>2019-04-12 14:38:00</td>\n",
       "      <td>669 Spruce St, Los Angeles, CA 90001</td>\n",
       "      <td>4</td>\n",
       "      <td>11.99</td>\n",
       "      <td>Los Angeles (CA)</td>\n",
       "      <td>14</td>\n",
       "      <td>12</td>\n",
       "    </tr>\n",
       "    <tr>\n",
       "      <th>4</th>\n",
       "      <td>176561</td>\n",
       "      <td>Wired Headphones</td>\n",
       "      <td>1</td>\n",
       "      <td>11.99</td>\n",
       "      <td>2019-04-30 09:27:00</td>\n",
       "      <td>333 8th St, Los Angeles, CA 90001</td>\n",
       "      <td>4</td>\n",
       "      <td>11.99</td>\n",
       "      <td>Los Angeles (CA)</td>\n",
       "      <td>9</td>\n",
       "      <td>30</td>\n",
       "    </tr>\n",
       "  </tbody>\n",
       "</table>\n",
       "</div>"
      ],
      "text/plain": [
       "  Order ID                     Product  Quantity Ordered  Price Each  \\\n",
       "0   176558        USB-C Charging Cable                 2       11.95   \n",
       "1   176559  Bose SoundSport Headphones                 1       99.99   \n",
       "2   176560                Google Phone                 1      600.00   \n",
       "3   176560            Wired Headphones                 1       11.99   \n",
       "4   176561            Wired Headphones                 1       11.99   \n",
       "\n",
       "           Order Date                      Purchase Address  Month   Sales  \\\n",
       "0 2019-04-19 08:46:00          917 1st St, Dallas, TX 75001      4   23.90   \n",
       "1 2019-04-07 22:30:00     682 Chestnut St, Boston, MA 02215      4   99.99   \n",
       "2 2019-04-12 14:38:00  669 Spruce St, Los Angeles, CA 90001      4  600.00   \n",
       "3 2019-04-12 14:38:00  669 Spruce St, Los Angeles, CA 90001      4   11.99   \n",
       "4 2019-04-30 09:27:00     333 8th St, Los Angeles, CA 90001      4   11.99   \n",
       "\n",
       "                City  Hour  Day_of_Month  \n",
       "0        Dallas (TX)     8            19  \n",
       "1        Boston (MA)    22             7  \n",
       "2   Los Angeles (CA)    14            12  \n",
       "3   Los Angeles (CA)    14            12  \n",
       "4   Los Angeles (CA)     9            30  "
      ]
     },
     "execution_count": 75,
     "metadata": {},
     "output_type": "execute_result"
    }
   ],
   "source": [
    "sales_data.head()"
   ]
  },
  {
   "cell_type": "markdown",
   "id": "7026527a",
   "metadata": {},
   "source": [
    "### Question 4: What product sold the most? "
   ]
  },
  {
   "cell_type": "code",
   "execution_count": 77,
   "id": "331aa162",
   "metadata": {},
   "outputs": [
    {
     "name": "stderr",
     "output_type": "stream",
     "text": [
      "C:\\Users\\karol\\AppData\\Local\\Temp\\ipykernel_26676\\3200985298.py:2: FutureWarning: The default value of numeric_only in DataFrameGroupBy.sum is deprecated. In a future version, numeric_only will default to False. Either specify numeric_only or select only columns which should be valid for the function.\n",
      "  quantity_ordered = product_group.sum()['Quantity Ordered']\n"
     ]
    },
    {
     "data": {
      "text/plain": [
       "Product\n",
       "20in Monitor                   4126\n",
       "27in 4K Gaming Monitor         6239\n",
       "27in FHD Monitor               7541\n",
       "34in Ultrawide Monitor         6192\n",
       "AA Batteries (4-pack)         27615\n",
       "AAA Batteries (4-pack)        30986\n",
       "Apple Airpods Headphones      15637\n",
       "Bose SoundSport Headphones    13430\n",
       "Flatscreen TV                  4813\n",
       "Google Phone                   5529\n",
       "LG Dryer                        646\n",
       "LG Washing Machine              666\n",
       "Lightning Charging Cable      23169\n",
       "Macbook Pro Laptop             4725\n",
       "ThinkPad Laptop                4128\n",
       "USB-C Charging Cable          23931\n",
       "Vareebadd Phone                2068\n",
       "Wired Headphones              20524\n",
       "iPhone                         6847\n",
       "Name: Quantity Ordered, dtype: int64"
      ]
     },
     "execution_count": 77,
     "metadata": {},
     "output_type": "execute_result"
    }
   ],
   "source": [
    "product_group = sales_data.groupby('Product')\n",
    "quantity_ordered = product_group.sum()['Quantity Ordered']\n",
    "\n",
    "quantity_ordered.to_csv('quatity_ordered_by_prod.csv')\n",
    "quantity_ordered\n",
    "\n",
    "# the most sold product: AAA Batteries (4-pack)\n",
    "# number of times sold: 155.085"
   ]
  },
  {
   "cell_type": "code",
   "execution_count": 78,
   "id": "5b4776cc",
   "metadata": {},
   "outputs": [
    {
     "data": {
      "text/plain": [
       "Text(0.5, 0, 'Product Name')"
      ]
     },
     "execution_count": 78,
     "metadata": {},
     "output_type": "execute_result"
    },
    {
     "data": {
      "image/png": "[encoded data removed]",
      "text/plain": [
       "<Figure size 640x480 with 1 Axes>"
      ]
     },
     "metadata": {},
     "output_type": "display_data"
    }
   ],
   "source": [
    "# bar chart\n",
    "products = [product for product, sales_data in product_group]\n",
    "plt.bar(products, quantity_ordered, color='b')\n",
    "plt.xticks(products, rotation ='vertical', fontsize=8)\n",
    "plt.ylabel('Number of product sold', color='b')\n",
    "plt.xlabel('Product Name')\n"
   ]
  },
  {
   "cell_type": "markdown",
   "id": "3ca32574",
   "metadata": {},
   "source": [
    "### Question 5: Why the AAA Batteries (4-pack) is the most sold product? \n",
    "   ###### number of times sold: 155.085"
   ]
  },
  {
   "cell_type": "code",
   "execution_count": 82,
   "id": "f593c5ef",
   "metadata": {},
   "outputs": [
    {
     "name": "stderr",
     "output_type": "stream",
     "text": [
      "C:\\Users\\karol\\AppData\\Local\\Temp\\ipykernel_26676\\2966143021.py:1: FutureWarning: The default value of numeric_only in DataFrameGroupBy.mean is deprecated. In a future version, numeric_only will default to False. Either specify numeric_only or select only columns which should be valid for the function.\n",
      "  product_prices = sales_data.groupby('Product').mean()['Price Each']\n",
      "C:\\Users\\karol\\AppData\\Local\\Temp\\ipykernel_26676\\2966143021.py:13: UserWarning: FixedFormatter should only be used together with FixedLocator\n",
      "  ax1.set_xticklabels(products, rotation='vertical', size=8)\n"
     ]
    },
    {
     "data": {
      "image/png": "[encoded data removed]",
      "text/plain": [
       "<Figure size 640x480 with 2 Axes>"
      ]
     },
     "metadata": {},
     "output_type": "display_data"
    }
   ],
   "source": [
    "product_prices = sales_data.groupby('Product').mean()['Price Each']\n",
    "#print(product_prices)\n",
    "\n",
    "fig, ax1 = plt.subplots()\n",
    "\n",
    "ax2 = ax1.twinx()\n",
    "ax1.bar(products, quantity_ordered, color='g')\n",
    "ax2.plot(products, product_prices, 'r-')\n",
    "\n",
    "ax1.set_xlabel('Product Name')\n",
    "ax1.set_ylabel('Quantity Ordered', color='g')\n",
    "ax2.set_ylabel('Product Prices ($)', color='r')\n",
    "ax1.set_xticklabels(products, rotation='vertical', size=8)\n",
    "plt.show()\n"
   ]
  },
  {
   "cell_type": "markdown",
   "id": "e3378925-f3a7-4a9e-825d-00c3ce1edd8c",
   "metadata": {},
   "source": [
    "### Question 6: What day of month has the most sales\n",
    " ##### Task 6: create day of month column"
   ]
  },
  {
   "cell_type": "code",
   "execution_count": 84,
   "id": "68269d64-fab2-4f68-ad54-1f31e99908ab",
   "metadata": {},
   "outputs": [],
   "source": [
    "sales_data['Day of Month'] = sales_data['Order Date'].dt.day"
   ]
  },
  {
   "cell_type": "code",
   "execution_count": 85,
   "id": "ffcdd328-7d07-4fd3-9212-5b6b81548022",
   "metadata": {},
   "outputs": [
    {
     "data": {
      "text/html": [
       "<div>\n",
       "<style scoped>\n",
       "    .dataframe tbody tr th:only-of-type {\n",
       "        vertical-align: middle;\n",
       "    }\n",
       "\n",
       "    .dataframe tbody tr th {\n",
       "        vertical-align: top;\n",
       "    }\n",
       "\n",
       "    .dataframe thead th {\n",
       "        text-align: right;\n",
       "    }\n",
       "</style>\n",
       "<table border=\"1\" class=\"dataframe\">\n",
       "  <thead>\n",
       "    <tr style=\"text-align: right;\">\n",
       "      <th></th>\n",
       "      <th>Order ID</th>\n",
       "      <th>Product</th>\n",
       "      <th>Quantity Ordered</th>\n",
       "      <th>Price Each</th>\n",
       "      <th>Order Date</th>\n",
       "      <th>Purchase Address</th>\n",
       "      <th>Month</th>\n",
       "      <th>Sales</th>\n",
       "      <th>City</th>\n",
       "      <th>Hour</th>\n",
       "      <th>Day_of_Month</th>\n",
       "      <th>Day of Month</th>\n",
       "    </tr>\n",
       "  </thead>\n",
       "  <tbody>\n",
       "    <tr>\n",
       "      <th>0</th>\n",
       "      <td>176558</td>\n",
       "      <td>USB-C Charging Cable</td>\n",
       "      <td>2</td>\n",
       "      <td>11.95</td>\n",
       "      <td>2019-04-19 08:46:00</td>\n",
       "      <td>917 1st St, Dallas, TX 75001</td>\n",
       "      <td>4</td>\n",
       "      <td>23.90</td>\n",
       "      <td>Dallas (TX)</td>\n",
       "      <td>8</td>\n",
       "      <td>19</td>\n",
       "      <td>19</td>\n",
       "    </tr>\n",
       "    <tr>\n",
       "      <th>1</th>\n",
       "      <td>176559</td>\n",
       "      <td>Bose SoundSport Headphones</td>\n",
       "      <td>1</td>\n",
       "      <td>99.99</td>\n",
       "      <td>2019-04-07 22:30:00</td>\n",
       "      <td>682 Chestnut St, Boston, MA 02215</td>\n",
       "      <td>4</td>\n",
       "      <td>99.99</td>\n",
       "      <td>Boston (MA)</td>\n",
       "      <td>22</td>\n",
       "      <td>7</td>\n",
       "      <td>7</td>\n",
       "    </tr>\n",
       "    <tr>\n",
       "      <th>2</th>\n",
       "      <td>176560</td>\n",
       "      <td>Google Phone</td>\n",
       "      <td>1</td>\n",
       "      <td>600.00</td>\n",
       "      <td>2019-04-12 14:38:00</td>\n",
       "      <td>669 Spruce St, Los Angeles, CA 90001</td>\n",
       "      <td>4</td>\n",
       "      <td>600.00</td>\n",
       "      <td>Los Angeles (CA)</td>\n",
       "      <td>14</td>\n",
       "      <td>12</td>\n",
       "      <td>12</td>\n",
       "    </tr>\n",
       "    <tr>\n",
       "      <th>3</th>\n",
       "      <td>176560</td>\n",
       "      <td>Wired Headphones</td>\n",
       "      <td>1</td>\n",
       "      <td>11.99</td>\n",
       "      <td>2019-04-12 14:38:00</td>\n",
       "      <td>669 Spruce St, Los Angeles, CA 90001</td>\n",
       "      <td>4</td>\n",
       "      <td>11.99</td>\n",
       "      <td>Los Angeles (CA)</td>\n",
       "      <td>14</td>\n",
       "      <td>12</td>\n",
       "      <td>12</td>\n",
       "    </tr>\n",
       "    <tr>\n",
       "      <th>4</th>\n",
       "      <td>176561</td>\n",
       "      <td>Wired Headphones</td>\n",
       "      <td>1</td>\n",
       "      <td>11.99</td>\n",
       "      <td>2019-04-30 09:27:00</td>\n",
       "      <td>333 8th St, Los Angeles, CA 90001</td>\n",
       "      <td>4</td>\n",
       "      <td>11.99</td>\n",
       "      <td>Los Angeles (CA)</td>\n",
       "      <td>9</td>\n",
       "      <td>30</td>\n",
       "      <td>30</td>\n",
       "    </tr>\n",
       "  </tbody>\n",
       "</table>\n",
       "</div>"
      ],
      "text/plain": [
       "  Order ID                     Product  Quantity Ordered  Price Each  \\\n",
       "0   176558        USB-C Charging Cable                 2       11.95   \n",
       "1   176559  Bose SoundSport Headphones                 1       99.99   \n",
       "2   176560                Google Phone                 1      600.00   \n",
       "3   176560            Wired Headphones                 1       11.99   \n",
       "4   176561            Wired Headphones                 1       11.99   \n",
       "\n",
       "           Order Date                      Purchase Address  Month   Sales  \\\n",
       "0 2019-04-19 08:46:00          917 1st St, Dallas, TX 75001      4   23.90   \n",
       "1 2019-04-07 22:30:00     682 Chestnut St, Boston, MA 02215      4   99.99   \n",
       "2 2019-04-12 14:38:00  669 Spruce St, Los Angeles, CA 90001      4  600.00   \n",
       "3 2019-04-12 14:38:00  669 Spruce St, Los Angeles, CA 90001      4   11.99   \n",
       "4 2019-04-30 09:27:00     333 8th St, Los Angeles, CA 90001      4   11.99   \n",
       "\n",
       "                City  Hour  Day_of_Month  Day of Month  \n",
       "0        Dallas (TX)     8            19            19  \n",
       "1        Boston (MA)    22             7             7  \n",
       "2   Los Angeles (CA)    14            12            12  \n",
       "3   Los Angeles (CA)    14            12            12  \n",
       "4   Los Angeles (CA)     9            30            30  "
      ]
     },
     "execution_count": 85,
     "metadata": {},
     "output_type": "execute_result"
    }
   ],
   "source": [
    "sales_data.head(5)"
   ]
  },
  {
   "cell_type": "code",
   "execution_count": 114,
   "id": "3cc3c66d-aa4c-4a8c-b204-2a2a5b80aac5",
   "metadata": {},
   "outputs": [
    {
     "data": {
      "text/plain": [
       "Day of Month\n",
       "1     1164859.49\n",
       "2     1137215.59\n",
       "3     1074294.06\n",
       "4     1163640.17\n",
       "5     1135007.86\n",
       "6     1151786.51\n",
       "7     1093460.78\n",
       "8     1106530.63\n",
       "9     1169049.22\n",
       "10    1168880.92\n",
       "Name: Sales, dtype: float64"
      ]
     },
     "execution_count": 114,
     "metadata": {},
     "output_type": "execute_result"
    }
   ],
   "source": [
    "day_with_most_sales = sales_data.groupby('Day of Month')['Sales'].sum()\n",
    "day_with_most_sales.to_csv('sales_by_day.csv')\n",
    "\n",
    "day_with_most_sales.head(10)"
   ]
  },
  {
   "cell_type": "markdown",
   "id": "42ff6361-0991-4b45-b4b1-adc07f656489",
   "metadata": {},
   "source": [
    "### Product By Price"
   ]
  },
  {
   "cell_type": "code",
   "execution_count": 110,
   "id": "c0ad5473",
   "metadata": {},
   "outputs": [
    {
     "name": "stdout",
     "output_type": "stream",
     "text": [
      "Product\n",
      "20in Monitor                   109.99\n",
      "27in 4K Gaming Monitor         389.99\n",
      "27in FHD Monitor               149.99\n",
      "34in Ultrawide Monitor         379.99\n",
      "AA Batteries (4-pack)            3.84\n",
      "AAA Batteries (4-pack)           2.99\n",
      "Apple Airpods Headphones       150.00\n",
      "Bose SoundSport Headphones      99.99\n",
      "Flatscreen TV                  300.00\n",
      "Google Phone                   600.00\n",
      "LG Dryer                       600.00\n",
      "LG Washing Machine             600.00\n",
      "Lightning Charging Cable        14.95\n",
      "Macbook Pro Laptop            1700.00\n",
      "ThinkPad Laptop                999.99\n",
      "USB-C Charging Cable            11.95\n",
      "Vareebadd Phone                400.00\n",
      "Wired Headphones                11.99\n",
      "iPhone                         700.00\n",
      "Name: Price Each, dtype: float64\n"
     ]
    },
    {
     "name": "stderr",
     "output_type": "stream",
     "text": [
      "C:\\Users\\karol\\AppData\\Local\\Temp\\ipykernel_26676\\1829450724.py:1: FutureWarning: The default value of numeric_only in DataFrameGroupBy.mean is deprecated. In a future version, numeric_only will default to False. Either specify numeric_only or select only columns which should be valid for the function.\n",
      "  product_prices = sales_data.groupby('Product').mean()['Price Each']\n"
     ]
    }
   ],
   "source": [
    "product_prices = sales_data.groupby('Product').mean()['Price Each']\n",
    "\n",
    "product_prices.to_csv('prod_prices.csv')\n",
    "\n",
    "print(product_prices)"
   ]
  },
  {
   "cell_type": "markdown",
   "id": "2b8b1f12",
   "metadata": {},
   "source": [
    "###  The AAA Batteries (4-pack) it's the most cheap product:\n",
    "#####  AAA Batteries (4-pack)  Price: 2.99$ \n",
    "\n",
    "As you can see in the graph above, when the product price is high, the quantity order is low.\n",
    "\n",
    "When the product price is low, quantity ordered is high.\n",
    "\n",
    "     Why Macbook Pro Laptop and ThinkPad Laptop prices are hight, but there's a high qunatity ordered?\n",
    "One of the reasons is because, there's many students and business that need a computer to function."
   ]
  }
 ],
 "metadata": {
  "kernelspec": {
   "display_name": "Python 3 (ipykernel)",
   "language": "python",
   "name": "python3"
  },
  "language_info": {
   "codemirror_mode": {
    "name": "ipython",
    "version": 3
   },
   "file_extension": ".py",
   "mimetype": "text/x-python",
   "name": "python",
   "nbconvert_exporter": "python",
   "pygments_lexer": "ipython3",
   "version": "3.11.4"
  }
 },
 "nbformat": 4,
 "nbformat_minor": 5
}
